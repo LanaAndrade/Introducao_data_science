{
  "nbformat": 4,
  "nbformat_minor": 0,
  "metadata": {
    "colab": {
      "provenance": [],
      "toc_visible": true,
      "authorship_tag": "ABX9TyNU3Nb9bvQspmB7SZQc6GyL",
      "include_colab_link": true
    },
    "kernelspec": {
      "name": "python3",
      "display_name": "Python 3"
    },
    "language_info": {
      "name": "python"
    }
  },
  "cells": [
    {
      "cell_type": "markdown",
      "metadata": {
        "id": "view-in-github",
        "colab_type": "text"
      },
      "source": [
        "<a href=\"https://colab.research.google.com/github/LanaAndrade/Introducao_data_science/blob/main/Introdu%C3%A7%C3%A3o_a_Data_Science.ipynb\" target=\"_parent\"><img src=\"https://colab.research.google.com/assets/colab-badge.svg\" alt=\"Open In Colab\"/></a>"
      ]
    },
    {
      "cell_type": "markdown",
      "source": [
        "#Importando a pandas, e a notas"
      ],
      "metadata": {
        "id": "fSY1SdEIUtag"
      }
    },
    {
      "cell_type": "code",
      "execution_count": 28,
      "metadata": {
        "id": "yEMA9mOH-ci5"
      },
      "outputs": [],
      "source": [
        "import pandas as pd\n",
        "\n",
        "notas = pd.read_csv(\"ratings.csv\")"
      ]
    },
    {
      "cell_type": "markdown",
      "source": [
        "#Funções shape, nomeando colunas e mostrando os 5 primeiros"
      ],
      "metadata": {
        "id": "SqudMMzeU0S-"
      }
    },
    {
      "cell_type": "code",
      "source": [
        "notas.shape\n",
        "notas.columns = [\"usuario\", \"filme\", \"avaliacao\", \"momento\"]\n",
        "notas.head()\n",
        "\n"
      ],
      "metadata": {
        "colab": {
          "base_uri": "https://localhost:8080/"
        },
        "id": "bXr-qDwP-5jw",
        "outputId": "d8f8fa7c-93e1-404b-e3d3-7d3a01fce277"
      },
      "execution_count": 58,
      "outputs": [
        {
          "output_type": "execute_result",
          "data": {
            "text/plain": [
              "(100836, 4)"
            ]
          },
          "metadata": {},
          "execution_count": 58
        }
      ]
    },
    {
      "cell_type": "markdown",
      "source": [
        "# Função unique, counts, media e mediana"
      ],
      "metadata": {
        "id": "3oF3xsmGVJZ3"
      }
    },
    {
      "cell_type": "code",
      "source": [
        "notas['avaliacao'].unique()\n"
      ],
      "metadata": {
        "colab": {
          "base_uri": "https://localhost:8080/"
        },
        "id": "MMZ1sn_1K1EX",
        "outputId": "4888883c-87c7-4348-d4f2-f521aec1457b"
      },
      "execution_count": 30,
      "outputs": [
        {
          "output_type": "execute_result",
          "data": {
            "text/plain": [
              "array([4. , 5. , 3. , 2. , 1. , 4.5, 3.5, 2.5, 0.5, 1.5])"
            ]
          },
          "metadata": {},
          "execution_count": 30
        }
      ]
    },
    {
      "cell_type": "markdown",
      "source": [],
      "metadata": {
        "id": "1_OD5KX2VNsY"
      }
    },
    {
      "cell_type": "markdown",
      "source": [
        "Função Value_Counts"
      ],
      "metadata": {
        "id": "Zrp1hOXAVWL7"
      }
    },
    {
      "cell_type": "code",
      "source": [
        "notas['avaliacao'].value_counts()\n"
      ],
      "metadata": {
        "colab": {
          "base_uri": "https://localhost:8080/"
        },
        "id": "22h3ReNPKqjl",
        "outputId": "e81c864b-4634-4851-dada-18cc2c00721f"
      },
      "execution_count": 21,
      "outputs": [
        {
          "output_type": "execute_result",
          "data": {
            "text/plain": [
              "avaliacao\n",
              "4.0    26818\n",
              "3.0    20047\n",
              "5.0    13211\n",
              "3.5    13136\n",
              "4.5     8551\n",
              "2.0     7551\n",
              "2.5     5550\n",
              "1.0     2811\n",
              "1.5     1791\n",
              "0.5     1370\n",
              "Name: count, dtype: int64"
            ]
          },
          "metadata": {},
          "execution_count": 21
        }
      ]
    },
    {
      "cell_type": "markdown",
      "source": [
        "Mean e Median"
      ],
      "metadata": {
        "id": "AfVHEbC7VaN0"
      }
    },
    {
      "cell_type": "code",
      "source": [
        "print(\"Média: \",notas['avaliacao'].mean())\n",
        "print(\"Mediana: \",notas['avaliacao'].median())"
      ],
      "metadata": {
        "colab": {
          "base_uri": "https://localhost:8080/"
        },
        "id": "YjK2fxYXKvCI",
        "outputId": "26f64c6b-ad04-4b68-9fd7-199a3a31653c"
      },
      "execution_count": 35,
      "outputs": [
        {
          "output_type": "stream",
          "name": "stdout",
          "text": [
            "Média:  3.501556983616962\n",
            "Mediana:  3.5\n"
          ]
        }
      ]
    },
    {
      "cell_type": "code",
      "source": [],
      "metadata": {
        "id": "DXiBelN7OCFk"
      },
      "execution_count": null,
      "outputs": []
    },
    {
      "cell_type": "markdown",
      "source": [
        "# Gráfico de histograma e describe\n",
        "\n",
        "\n"
      ],
      "metadata": {
        "id": "JUMMCbueVcP9"
      }
    },
    {
      "cell_type": "code",
      "source": [
        "notas.avaliacao.plot(kind='hist')"
      ],
      "metadata": {
        "colab": {
          "base_uri": "https://localhost:8080/",
          "height": 447
        },
        "id": "xR_3tObwKvvg",
        "outputId": "ffc0c7ce-bb06-473d-8dcb-513f9fa7f1dc"
      },
      "execution_count": 33,
      "outputs": [
        {
          "output_type": "execute_result",
          "data": {
            "text/plain": [
              "<Axes: ylabel='Frequency'>"
            ]
          },
          "metadata": {},
          "execution_count": 33
        },
        {
          "output_type": "display_data",
          "data": {
            "text/plain": [
              "<Figure size 640x480 with 1 Axes>"
            ],
            "image/png": "[encoded data removed]"
          },
          "metadata": {}
        }
      ]
    },
    {
      "cell_type": "code",
      "source": [
        "notas.avaliacao.describe()"
      ],
      "metadata": {
        "colab": {
          "base_uri": "https://localhost:8080/"
        },
        "id": "sZeAUAvfODsd",
        "outputId": "1d6702de-a705-44d3-de92-ede52514e6ea"
      },
      "execution_count": 36,
      "outputs": [
        {
          "output_type": "execute_result",
          "data": {
            "text/plain": [
              "count    100836.000000\n",
              "mean          3.501557\n",
              "std           1.042529\n",
              "min           0.500000\n",
              "25%           3.000000\n",
              "50%           3.500000\n",
              "75%           4.000000\n",
              "max           5.000000\n",
              "Name: avaliacao, dtype: float64"
            ]
          },
          "metadata": {},
          "execution_count": 36
        }
      ]
    },
    {
      "cell_type": "markdown",
      "source": [
        "#Import da Seaborn e de movies"
      ],
      "metadata": {
        "id": "0JKjIQYQV_yE"
      }
    },
    {
      "cell_type": "code",
      "source": [
        "import seaborn as sns\n",
        "\n",
        "sns.boxplot(notas.avaliacao)"
      ],
      "metadata": {
        "colab": {
          "base_uri": "https://localhost:8080/",
          "height": 428
        },
        "id": "WVqPVXDyOnLG",
        "outputId": "b62b244c-647f-496f-fd5e-1a9173c4e81a"
      },
      "execution_count": 72,
      "outputs": [
        {
          "output_type": "execute_result",
          "data": {
            "text/plain": [
              "<Axes: ylabel='avaliacao'>"
            ]
          },
          "metadata": {},
          "execution_count": 72
        },
        {
          "output_type": "display_data",
          "data": {
            "text/plain": [
              "<Figure size 640x480 with 1 Axes>"
            ],
            "image/png": "[encoded data removed]"
          },
          "metadata": {}
        }
      ]
    },
    {
      "cell_type": "markdown",
      "source": [],
      "metadata": {
        "id": "EXoGTlmZUnNW"
      }
    },
    {
      "cell_type": "markdown",
      "source": [],
      "metadata": {
        "id": "yoWR1MO9Ur9Z"
      }
    },
    {
      "cell_type": "markdown",
      "source": [
        "#Analisando notas especificas por filme"
      ],
      "metadata": {
        "id": "LnEB55PkWryp"
      }
    },
    {
      "cell_type": "code",
      "source": [
        "filmes = pd.read_csv(\"movies.csv\")\n",
        "filmes.columns = [\"filme\", \"titulo\", \"genero\"]\n",
        "filmes.head()\n",
        "#notas.query(\"filme==1\").avaliacao.mean()\n",
        "medias_por_filme = notas.groupby(\"filme\").mean()[\"avaliacao\"]\n",
        "medias_por_filme.plot(kind=\"hist\")"
      ],
      "metadata": {
        "colab": {
          "base_uri": "https://localhost:8080/",
          "height": 447
        },
        "id": "3Z8mSKLlRF_E",
        "outputId": "1351ecff-3d21-4f20-d006-7bf82b884142"
      },
      "execution_count": 75,
      "outputs": [
        {
          "output_type": "execute_result",
          "data": {
            "text/plain": [
              "<Axes: ylabel='Frequency'>"
            ]
          },
          "metadata": {},
          "execution_count": 75
        },
        {
          "output_type": "display_data",
          "data": {
            "text/plain": [
              "<Figure size 640x480 with 1 Axes>"
            ],
            "image/png": "[encoded data removed]"
          },
          "metadata": {}
        }
      ]
    },
    {
      "cell_type": "markdown",
      "source": [],
      "metadata": {
        "id": "9dFdI1INUkF1"
      }
    },
    {
      "cell_type": "code",
      "source": [
        "import matplotlib.pyplot as plt\n",
        "\n",
        "plt.figure(figsize=(5,8))\n",
        "sns.boxplot(medias_por_filme)"
      ],
      "metadata": {
        "colab": {
          "base_uri": "https://localhost:8080/",
          "height": 674
        },
        "id": "YrzFJCKwRau4",
        "outputId": "4b0db8f9-f79e-4e80-a69e-f2edb58de712"
      },
      "execution_count": 86,
      "outputs": [
        {
          "output_type": "execute_result",
          "data": {
            "text/plain": [
              "<Axes: ylabel='avaliacao'>"
            ]
          },
          "metadata": {},
          "execution_count": 86
        },
        {
          "output_type": "display_data",
          "data": {
            "text/plain": [
              "<Figure size 500x800 with 1 Axes>"
            ],
            "image/png": "[encoded data removed]"
          },
          "metadata": {}
        }
      ]
    },
    {
      "cell_type": "code",
      "source": [
        "sns.histplot(medias_por_filme, bins=10)"
      ],
      "metadata": {
        "colab": {
          "base_uri": "https://localhost:8080/",
          "height": 466
        },
        "id": "vXM60tk3bAf_",
        "outputId": "c437a562-b7b9-4755-d42e-5fa6039217a7"
      },
      "execution_count": 83,
      "outputs": [
        {
          "output_type": "execute_result",
          "data": {
            "text/plain": [
              "<Axes: xlabel='avaliacao', ylabel='Count'>"
            ]
          },
          "metadata": {},
          "execution_count": 83
        },
        {
          "output_type": "display_data",
          "data": {
            "text/plain": [
              "<Figure size 640x480 with 1 Axes>"
            ],
            "image/png": "[encoded data removed]"
          },
          "metadata": {}
        }
      ]
    },
    {
      "cell_type": "code",
      "source": [
        "plt.hist(medias_por_filme)\n",
        "plt.title(\"Médias por filme\")"
      ],
      "metadata": {
        "colab": {
          "base_uri": "https://localhost:8080/",
          "height": 470
        },
        "id": "hd_Y654FbXnX",
        "outputId": "ed3b30a2-08eb-42e6-a23b-f6967b3ce63c"
      },
      "execution_count": 85,
      "outputs": [
        {
          "output_type": "execute_result",
          "data": {
            "text/plain": [
              "Text(0.5, 1.0, 'Médias por filme')"
            ]
          },
          "metadata": {},
          "execution_count": 85
        },
        {
          "output_type": "display_data",
          "data": {
            "text/plain": [
              "<Figure size 640x480 with 1 Axes>"
            ],
            "image/png": "[encoded data removed]"
          },
          "metadata": {}
        }
      ]
    },
    {
      "cell_type": "code",
      "source": [],
      "metadata": {
        "id": "Z0XIhiORb_GL"
      },
      "execution_count": null,
      "outputs": []
    }
  ]
}